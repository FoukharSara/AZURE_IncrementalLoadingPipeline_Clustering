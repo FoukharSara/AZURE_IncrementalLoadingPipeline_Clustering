{
 "cells": [
  {
   "cell_type": "code",
   "execution_count": 1,
   "id": "3fb13382-9b7a-4e33-8f5f-70fa01a350a2",
   "metadata": {},
   "outputs": [],
   "source": [
    "import pandas as pd"
   ]
  },
  {
   "cell_type": "code",
   "execution_count": 2,
   "id": "50a6eac9-4b03-493d-ab80-250ea676d6f1",
   "metadata": {},
   "outputs": [],
   "source": [
    "def import_files(name):\n",
    "    data = pd.read_csv(name)\n",
    "    return data\n"
   ]
  },
  {
   "cell_type": "code",
   "execution_count": 3,
   "id": "9d97b235-d01d-440c-b0c2-a3a66a1895d6",
   "metadata": {},
   "outputs": [
    {
     "data": {
      "text/plain": [
       "(265, 31)"
      ]
     },
     "execution_count": 3,
     "metadata": {},
     "output_type": "execute_result"
    }
   ],
   "source": [
    "country_df = import_files(\"dataset/WDICountry.csv\")\n",
    "country_df.shape"
   ]
  },
  {
   "cell_type": "code",
   "execution_count": 4,
   "id": "78aa3c57-3d65-4368-93bf-c5e24ea77091",
   "metadata": {
    "scrolled": true
   },
   "outputs": [
    {
     "data": {
      "text/plain": [
       "(397936, 68)"
      ]
     },
     "execution_count": 4,
     "metadata": {},
     "output_type": "execute_result"
    }
   ],
   "source": [
    "main_df = import_files(\"dataset/WDICSV.csv\")\n",
    "main_df.shape"
   ]
  },
  {
   "cell_type": "code",
   "execution_count": 5,
   "id": "84c3ae57-6807-443b-9eec-64f49f2ec525",
   "metadata": {},
   "outputs": [
    {
     "data": {
      "text/plain": [
       "(1453, 20)"
      ]
     },
     "execution_count": 5,
     "metadata": {},
     "output_type": "execute_result"
    }
   ],
   "source": [
    "series_df = import_files(\"dataset/WDISeries.csv\")\n",
    "series_df.shape"
   ]
  },
  {
   "cell_type": "code",
   "execution_count": 6,
   "id": "2d185586-1f23-455f-b172-9bfcb836e583",
   "metadata": {},
   "outputs": [],
   "source": [
    "id_cols = [\"Country Name\", \"Country Code\", \"Indicator Name\", \"Indicator Code\"]\n",
    "year_col=[]\n",
    "for col in main_df.columns:\n",
    "    if col not in id_cols:\n",
    "        year_col.append(col)"
   ]
  },
  {
   "cell_type": "code",
   "execution_count": 7,
   "id": "4ad52bf6-1117-4afb-992d-8f003e39bf3f",
   "metadata": {
    "scrolled": true
   },
   "outputs": [],
   "source": [
    "main_melted = main_df.melt(id_vars=id_cols, value_vars= year_col)\n"
   ]
  },
  {
   "cell_type": "code",
   "execution_count": 8,
   "id": "468f33b8-7afc-4662-8415-8ecb741eb6d8",
   "metadata": {},
   "outputs": [
    {
     "data": {
      "text/plain": [
       "(8825817, 6)"
      ]
     },
     "execution_count": 8,
     "metadata": {},
     "output_type": "execute_result"
    }
   ],
   "source": [
    "main_melted.isnull().sum()\n",
    "new_main_melted= main_melted.dropna()\n",
    "new_main_melted.shape"
   ]
  },
  {
   "cell_type": "code",
   "execution_count": 20,
   "id": "b71ba332-dc65-4031-9a1e-1516189dc1d6",
   "metadata": {},
   "outputs": [],
   "source": [
    "years_to_keep = ['2004', '2020', '2023']\n",
    "filtered_df = new_main_melted[new_main_melted['variable'].isin(years_to_keep)]\n"
   ]
  },
  {
   "cell_type": "code",
   "execution_count": 21,
   "id": "7f24e8ac-daa0-4a9d-b627-e86e3f004974",
   "metadata": {
    "scrolled": true
   },
   "outputs": [
    {
     "data": {
      "text/plain": [
       "array(['2004', '2020', '2023'], dtype=object)"
      ]
     },
     "execution_count": 21,
     "metadata": {},
     "output_type": "execute_result"
    }
   ],
   "source": [
    "filtered_df['variable'].unique()"
   ]
  },
  {
   "cell_type": "code",
   "execution_count": null,
   "id": "4eb0efae-6e1c-4840-822a-9de454e01d6d",
   "metadata": {},
   "outputs": [],
   "source": [
    "new_main_melted=filtered_df"
   ]
  },
  {
   "cell_type": "code",
   "execution_count": null,
   "id": "5ed2aeab-8287-4f2c-9322-76f8e77eb823",
   "metadata": {},
   "outputs": [],
   "source": [
    "filtered_df.shape"
   ]
  },
  {
   "cell_type": "code",
   "execution_count": null,
   "id": "c09e9c5e-e284-462a-8b4f-f7074db1c20c",
   "metadata": {},
   "outputs": [],
   "source": [
    "main_melted.isnull().sum().sum()\n"
   ]
  },
  {
   "cell_type": "code",
   "execution_count": null,
   "id": "5a5b52ba-6dc3-4948-965d-760a46626fa1",
   "metadata": {},
   "outputs": [],
   "source": [
    "new_main_melted.isnull().sum().sum()\n"
   ]
  },
  {
   "cell_type": "code",
   "execution_count": null,
   "id": "67714837-c543-4671-abca-3476350952b5",
   "metadata": {},
   "outputs": [],
   "source": [
    "country_df.isnull().sum()"
   ]
  },
  {
   "cell_type": "code",
   "execution_count": null,
   "id": "635cbf1a-a68e-4cb4-b3bc-0eceae407224",
   "metadata": {},
   "outputs": [],
   "source": [
    "country_cleaned = country_df[['Country Code','Short Name','Region','Income Group','Currency Unit']]"
   ]
  },
  {
   "cell_type": "code",
   "execution_count": null,
   "id": "34a3cf13-a1cb-4c86-a46c-bef4475303ac",
   "metadata": {},
   "outputs": [],
   "source": [
    "country_cleaned.head()"
   ]
  },
  {
   "cell_type": "code",
   "execution_count": null,
   "id": "1e93ec3c-c38e-4d7f-b1fa-417fb3785640",
   "metadata": {},
   "outputs": [],
   "source": [
    "country_cleaned.isnull().sum()"
   ]
  },
  {
   "cell_type": "code",
   "execution_count": null,
   "id": "14861bda-6e44-4ae0-a6c2-251cc4be69d2",
   "metadata": {},
   "outputs": [],
   "source": [
    "df_merged = pd.merge(new_main_melted, country_cleaned, on=\"Country Code\",how='left')"
   ]
  },
  {
   "cell_type": "code",
   "execution_count": null,
   "id": "073eb986-f4e0-49bc-ba9f-cfc5712dfdcb",
   "metadata": {
    "scrolled": true
   },
   "outputs": [],
   "source": [
    "df_merged.sort_values(by='variable',ascending=False).head()"
   ]
  },
  {
   "cell_type": "code",
   "execution_count": null,
   "id": "0bd6de17-6313-4ef0-89e8-2441cd526701",
   "metadata": {},
   "outputs": [],
   "source": [
    "df_merged.columns"
   ]
  },
  {
   "cell_type": "code",
   "execution_count": null,
   "id": "101c6dd7-3b9b-4458-b81b-2f163d6fe486",
   "metadata": {},
   "outputs": [],
   "source": [
    "series_df.columns"
   ]
  },
  {
   "cell_type": "code",
   "execution_count": null,
   "id": "c5abfff1-d795-4993-b3b2-8a6166308b06",
   "metadata": {},
   "outputs": [],
   "source": [
    "series_df.isnull().sum()"
   ]
  },
  {
   "cell_type": "code",
   "execution_count": null,
   "id": "4db1a9a1-0619-4aa8-8b63-36fcbe5af2e2",
   "metadata": {},
   "outputs": [],
   "source": [
    "columns_to_keep = [\n",
    "    'Series Code',\n",
    "    'Topic',\n",
    "    'Indicator Name',\n",
    "    'Long definition',\n",
    "    'Unit of measure'\n",
    "]\n",
    "\n",
    "series_cleaned = series_df[columns_to_keep]\n"
   ]
  },
  {
   "cell_type": "code",
   "execution_count": null,
   "id": "5977aa26-badb-4afc-85be-3e31a4ae8cca",
   "metadata": {},
   "outputs": [],
   "source": [
    "series_cleaned.head()"
   ]
  },
  {
   "cell_type": "code",
   "execution_count": null,
   "id": "c5d92121-d1b4-43d8-8579-f5b813501b19",
   "metadata": {},
   "outputs": [],
   "source": [
    "df = pd.merge(df_merged,series_cleaned, left_on=\"Indicator Code\", right_on=\"Series Code\", how=\"left\")\n",
    "df.shape"
   ]
  },
  {
   "cell_type": "code",
   "execution_count": null,
   "id": "950301b7-b358-4bdc-b79a-0693c58c9dde",
   "metadata": {},
   "outputs": [],
   "source": [
    "df.to_csv(\"data.csv\", index=False)"
   ]
  },
  {
   "cell_type": "code",
   "execution_count": null,
   "id": "2d897e8b-0a69-4f00-978c-9617d9ad1ae6",
   "metadata": {},
   "outputs": [],
   "source": [
    "main_df.shape"
   ]
  },
  {
   "cell_type": "code",
   "execution_count": null,
   "id": "cd8508ba-843d-4a8b-8be1-d4ca1bde4820",
   "metadata": {},
   "outputs": [],
   "source": []
  }
 ],
 "metadata": {
  "kernelspec": {
   "display_name": "Python (venv)",
   "language": "python",
   "name": "venv"
  },
  "language_info": {
   "codemirror_mode": {
    "name": "ipython",
    "version": 3
   },
   "file_extension": ".py",
   "mimetype": "text/x-python",
   "name": "python",
   "nbconvert_exporter": "python",
   "pygments_lexer": "ipython3",
   "version": "3.13.5"
  }
 },
 "nbformat": 4,
 "nbformat_minor": 5
}
