{
 "cells": [
  {
   "cell_type": "code",
   "execution_count": 1,
   "id": "3fb13382-9b7a-4e33-8f5f-70fa01a350a2",
   "metadata": {},
   "outputs": [],
   "source": [
    "import pandas as pd"
   ]
  },
  {
   "cell_type": "code",
   "execution_count": 2,
   "id": "50a6eac9-4b03-493d-ab80-250ea676d6f1",
   "metadata": {},
   "outputs": [],
   "source": [
    "def import_files(name):\n",
    "    data = pd.read_csv(name)\n",
    "    return data\n"
   ]
  },
  {
   "cell_type": "code",
   "execution_count": 3,
   "id": "9d97b235-d01d-440c-b0c2-a3a66a1895d6",
   "metadata": {},
   "outputs": [
    {
     "data": {
      "text/plain": [
       "(265, 31)"
      ]
     },
     "execution_count": 3,
     "metadata": {},
     "output_type": "execute_result"
    }
   ],
   "source": [
    "country_df = import_files(\"dataset/WDICountry.csv\")\n",
    "country_df.shape"
   ]
  },
  {
   "cell_type": "code",
   "execution_count": 4,
   "id": "78aa3c57-3d65-4368-93bf-c5e24ea77091",
   "metadata": {
    "scrolled": true
   },
   "outputs": [
    {
     "data": {
      "text/plain": [
       "(397936, 68)"
      ]
     },
     "execution_count": 4,
     "metadata": {},
     "output_type": "execute_result"
    }
   ],
   "source": [
    "main_df = import_files(\"dataset/WDICSV.csv\")\n",
    "main_df.shape"
   ]
  },
  {
   "cell_type": "code",
   "execution_count": 5,
   "id": "84c3ae57-6807-443b-9eec-64f49f2ec525",
   "metadata": {},
   "outputs": [
    {
     "data": {
      "text/plain": [
       "(1453, 20)"
      ]
     },
     "execution_count": 5,
     "metadata": {},
     "output_type": "execute_result"
    }
   ],
   "source": [
    "series_df = import_files(\"dataset/WDISeries.csv\")\n",
    "series_df.shape"
   ]
  },
  {
   "cell_type": "code",
   "execution_count": 6,
   "id": "2d185586-1f23-455f-b172-9bfcb836e583",
   "metadata": {},
   "outputs": [],
   "source": [
    "id_cols = [\"Country Name\", \"Country Code\", \"Indicator Name\", \"Indicator Code\"]\n",
    "year_col=[]\n",
    "for col in main_df.columns:\n",
    "    if col not in id_cols:\n",
    "        year_col.append(col)"
   ]
  },
  {
   "cell_type": "code",
   "execution_count": 7,
   "id": "4ad52bf6-1117-4afb-992d-8f003e39bf3f",
   "metadata": {
    "scrolled": true
   },
   "outputs": [],
   "source": [
    "main_melted = main_df.melt(id_vars=id_cols, value_vars= year_col)\n"
   ]
  },
  {
   "cell_type": "code",
   "execution_count": 8,
   "id": "468f33b8-7afc-4662-8415-8ecb741eb6d8",
   "metadata": {},
   "outputs": [
    {
     "data": {
      "text/plain": [
       "(8825817, 6)"
      ]
     },
     "execution_count": 8,
     "metadata": {},
     "output_type": "execute_result"
    }
   ],
   "source": [
    "main_melted.isnull().sum()\n",
    "new_main_melted= main_melted.dropna()\n",
    "new_main_melted.shape"
   ]
  },
  {
   "cell_type": "code",
   "execution_count": 9,
   "id": "b71ba332-dc65-4031-9a1e-1516189dc1d6",
   "metadata": {},
   "outputs": [],
   "source": [
    "years_to_keep = ['2004', '2020', '2023']\n",
    "filtered_df = new_main_melted[new_main_melted['variable'].isin(years_to_keep)]\n"
   ]
  },
  {
   "cell_type": "code",
   "execution_count": 10,
   "id": "7f24e8ac-daa0-4a9d-b627-e86e3f004974",
   "metadata": {
    "scrolled": true
   },
   "outputs": [
    {
     "data": {
      "text/plain": [
       "array(['2004', '2020', '2023'], dtype=object)"
      ]
     },
     "execution_count": 10,
     "metadata": {},
     "output_type": "execute_result"
    }
   ],
   "source": [
    "filtered_df['variable'].unique()"
   ]
  },
  {
   "cell_type": "code",
   "execution_count": 11,
   "id": "4eb0efae-6e1c-4840-822a-9de454e01d6d",
   "metadata": {},
   "outputs": [],
   "source": [
    "new_main_melted=filtered_df"
   ]
  },
  {
   "cell_type": "code",
   "execution_count": 13,
   "id": "5ed2aeab-8287-4f2c-9322-76f8e77eb823",
   "metadata": {},
   "outputs": [
    {
     "data": {
      "text/plain": [
       "(492875, 6)"
      ]
     },
     "execution_count": 13,
     "metadata": {},
     "output_type": "execute_result"
    }
   ],
   "source": [
    "new_main_melted.shape"
   ]
  },
  {
   "cell_type": "code",
   "execution_count": 14,
   "id": "c09e9c5e-e284-462a-8b4f-f7074db1c20c",
   "metadata": {},
   "outputs": [
    {
     "data": {
      "text/plain": [
       "np.int64(16642087)"
      ]
     },
     "execution_count": 14,
     "metadata": {},
     "output_type": "execute_result"
    }
   ],
   "source": [
    "main_melted.isnull().sum().sum()\n"
   ]
  },
  {
   "cell_type": "code",
   "execution_count": 15,
   "id": "5a5b52ba-6dc3-4948-965d-760a46626fa1",
   "metadata": {},
   "outputs": [
    {
     "data": {
      "text/plain": [
       "np.int64(0)"
      ]
     },
     "execution_count": 15,
     "metadata": {},
     "output_type": "execute_result"
    }
   ],
   "source": [
    "new_main_melted.isnull().sum().sum()\n"
   ]
  },
  {
   "cell_type": "code",
   "execution_count": null,
   "id": "67714837-c543-4671-abca-3476350952b5",
   "metadata": {},
   "outputs": [],
   "source": [
    "country_df.isnull().sum()"
   ]
  },
  {
   "cell_type": "code",
   "execution_count": 16,
   "id": "635cbf1a-a68e-4cb4-b3bc-0eceae407224",
   "metadata": {},
   "outputs": [],
   "source": [
    "country_cleaned = country_df[['Country Code','Short Name','Region','Income Group','Currency Unit']]"
   ]
  },
  {
   "cell_type": "code",
   "execution_count": null,
   "id": "34a3cf13-a1cb-4c86-a46c-bef4475303ac",
   "metadata": {},
   "outputs": [],
   "source": [
    "country_cleaned.head()"
   ]
  },
  {
   "cell_type": "code",
   "execution_count": 17,
   "id": "1e93ec3c-c38e-4d7f-b1fa-417fb3785640",
   "metadata": {},
   "outputs": [
    {
     "data": {
      "text/plain": [
       "Country Code      0\n",
       "Short Name        0\n",
       "Region           48\n",
       "Income Group     49\n",
       "Currency Unit    48\n",
       "dtype: int64"
      ]
     },
     "execution_count": 17,
     "metadata": {},
     "output_type": "execute_result"
    }
   ],
   "source": [
    "country_cleaned.isnull().sum()"
   ]
  },
  {
   "cell_type": "code",
   "execution_count": 18,
   "id": "14861bda-6e44-4ae0-a6c2-251cc4be69d2",
   "metadata": {},
   "outputs": [],
   "source": [
    "df_merged = pd.merge(new_main_melted, country_cleaned, on=\"Country Code\",how='left')"
   ]
  },
  {
   "cell_type": "code",
   "execution_count": 19,
   "id": "073eb986-f4e0-49bc-ba9f-cfc5712dfdcb",
   "metadata": {
    "scrolled": true
   },
   "outputs": [
    {
     "data": {
      "text/html": [
       "<div>\n",
       "<style scoped>\n",
       "    .dataframe tbody tr th:only-of-type {\n",
       "        vertical-align: middle;\n",
       "    }\n",
       "\n",
       "    .dataframe tbody tr th {\n",
       "        vertical-align: top;\n",
       "    }\n",
       "\n",
       "    .dataframe thead th {\n",
       "        text-align: right;\n",
       "    }\n",
       "</style>\n",
       "<table border=\"1\" class=\"dataframe\">\n",
       "  <thead>\n",
       "    <tr style=\"text-align: right;\">\n",
       "      <th></th>\n",
       "      <th>Country Name</th>\n",
       "      <th>Country Code</th>\n",
       "      <th>Indicator Name</th>\n",
       "      <th>Indicator Code</th>\n",
       "      <th>variable</th>\n",
       "      <th>value</th>\n",
       "      <th>Short Name</th>\n",
       "      <th>Region</th>\n",
       "      <th>Income Group</th>\n",
       "      <th>Currency Unit</th>\n",
       "    </tr>\n",
       "  </thead>\n",
       "  <tbody>\n",
       "    <tr>\n",
       "      <th>492874</th>\n",
       "      <td>Zimbabwe</td>\n",
       "      <td>ZWE</td>\n",
       "      <td>Women Business and the Law Index Score (scale ...</td>\n",
       "      <td>SG.LAW.INDX</td>\n",
       "      <td>2023</td>\n",
       "      <td>8.687500e+01</td>\n",
       "      <td>Zimbabwe</td>\n",
       "      <td>Sub-Saharan Africa</td>\n",
       "      <td>Lower middle income</td>\n",
       "      <td>Zimbabwean Dollar</td>\n",
       "    </tr>\n",
       "    <tr>\n",
       "      <th>438006</th>\n",
       "      <td>Chile</td>\n",
       "      <td>CHL</td>\n",
       "      <td>Population in largest city</td>\n",
       "      <td>EN.URB.LCTY</td>\n",
       "      <td>2023</td>\n",
       "      <td>6.903392e+06</td>\n",
       "      <td>Chile</td>\n",
       "      <td>Latin America &amp; Caribbean</td>\n",
       "      <td>High income</td>\n",
       "      <td>Chilean peso</td>\n",
       "    </tr>\n",
       "    <tr>\n",
       "      <th>438108</th>\n",
       "      <td>China</td>\n",
       "      <td>CHN</td>\n",
       "      <td>Borrowers from commercial banks (per 1,000 adu...</td>\n",
       "      <td>FB.CBK.BRWR.P3</td>\n",
       "      <td>2023</td>\n",
       "      <td>6.407210e+02</td>\n",
       "      <td>China</td>\n",
       "      <td>East Asia &amp; Pacific</td>\n",
       "      <td>Upper middle income</td>\n",
       "      <td>Chinese yuan</td>\n",
       "    </tr>\n",
       "    <tr>\n",
       "      <th>438109</th>\n",
       "      <td>China</td>\n",
       "      <td>CHN</td>\n",
       "      <td>Broad money (% of GDP)</td>\n",
       "      <td>FM.LBL.BMNY.GD.ZS</td>\n",
       "      <td>2023</td>\n",
       "      <td>2.279446e+02</td>\n",
       "      <td>China</td>\n",
       "      <td>East Asia &amp; Pacific</td>\n",
       "      <td>Upper middle income</td>\n",
       "      <td>Chinese yuan</td>\n",
       "    </tr>\n",
       "    <tr>\n",
       "      <th>438110</th>\n",
       "      <td>China</td>\n",
       "      <td>CHN</td>\n",
       "      <td>Broad money (current LCU)</td>\n",
       "      <td>FM.LBL.BMNY.CN</td>\n",
       "      <td>2023</td>\n",
       "      <td>2.873428e+14</td>\n",
       "      <td>China</td>\n",
       "      <td>East Asia &amp; Pacific</td>\n",
       "      <td>Upper middle income</td>\n",
       "      <td>Chinese yuan</td>\n",
       "    </tr>\n",
       "  </tbody>\n",
       "</table>\n",
       "</div>"
      ],
      "text/plain": [
       "       Country Name Country Code  \\\n",
       "492874     Zimbabwe          ZWE   \n",
       "438006        Chile          CHL   \n",
       "438108        China          CHN   \n",
       "438109        China          CHN   \n",
       "438110        China          CHN   \n",
       "\n",
       "                                           Indicator Name     Indicator Code  \\\n",
       "492874  Women Business and the Law Index Score (scale ...        SG.LAW.INDX   \n",
       "438006                         Population in largest city        EN.URB.LCTY   \n",
       "438108  Borrowers from commercial banks (per 1,000 adu...     FB.CBK.BRWR.P3   \n",
       "438109                             Broad money (% of GDP)  FM.LBL.BMNY.GD.ZS   \n",
       "438110                          Broad money (current LCU)     FM.LBL.BMNY.CN   \n",
       "\n",
       "       variable         value Short Name                     Region  \\\n",
       "492874     2023  8.687500e+01   Zimbabwe         Sub-Saharan Africa   \n",
       "438006     2023  6.903392e+06      Chile  Latin America & Caribbean   \n",
       "438108     2023  6.407210e+02      China        East Asia & Pacific   \n",
       "438109     2023  2.279446e+02      China        East Asia & Pacific   \n",
       "438110     2023  2.873428e+14      China        East Asia & Pacific   \n",
       "\n",
       "               Income Group      Currency Unit  \n",
       "492874  Lower middle income  Zimbabwean Dollar  \n",
       "438006          High income       Chilean peso  \n",
       "438108  Upper middle income       Chinese yuan  \n",
       "438109  Upper middle income       Chinese yuan  \n",
       "438110  Upper middle income       Chinese yuan  "
      ]
     },
     "execution_count": 19,
     "metadata": {},
     "output_type": "execute_result"
    }
   ],
   "source": [
    "df_merged.sort_values(by='variable',ascending=False).head()"
   ]
  },
  {
   "cell_type": "code",
   "execution_count": 21,
   "id": "0bd6de17-6313-4ef0-89e8-2441cd526701",
   "metadata": {},
   "outputs": [
    {
     "data": {
      "text/plain": [
       "(492875, 10)"
      ]
     },
     "execution_count": 21,
     "metadata": {},
     "output_type": "execute_result"
    }
   ],
   "source": [
    "df_merged.shape"
   ]
  },
  {
   "cell_type": "code",
   "execution_count": 22,
   "id": "101c6dd7-3b9b-4458-b81b-2f163d6fe486",
   "metadata": {},
   "outputs": [
    {
     "data": {
      "text/plain": [
       "Index(['Series Code', 'Topic', 'Indicator Name', 'Short definition',\n",
       "       'Long definition', 'Unit of measure', 'Periodicity', 'Base Period',\n",
       "       'Other notes', 'Aggregation method', 'Limitations and exceptions',\n",
       "       'Notes from original source', 'General comments', 'Source',\n",
       "       'Statistical concept and methodology', 'Development relevance',\n",
       "       'Related source links', 'Other web links', 'Related indicators',\n",
       "       'License Type'],\n",
       "      dtype='object')"
      ]
     },
     "execution_count": 22,
     "metadata": {},
     "output_type": "execute_result"
    }
   ],
   "source": [
    "series_df.columns"
   ]
  },
  {
   "cell_type": "code",
   "execution_count": 23,
   "id": "c5abfff1-d795-4993-b3b2-8a6166308b06",
   "metadata": {},
   "outputs": [
    {
     "data": {
      "text/plain": [
       "Series Code                               0\n",
       "Topic                                     0\n",
       "Indicator Name                           36\n",
       "Short definition                       1246\n",
       "Long definition                          36\n",
       "Unit of measure                        1397\n",
       "Periodicity                              60\n",
       "Base Period                            1379\n",
       "Other notes                            1394\n",
       "Aggregation method                      440\n",
       "Limitations and exceptions              624\n",
       "Notes from original source             1335\n",
       "General comments                       1080\n",
       "Source                                   36\n",
       "Statistical concept and methodology     535\n",
       "Development relevance                   726\n",
       "Related source links                   1395\n",
       "Other web links                        1436\n",
       "Related indicators                     1444\n",
       "License Type                              0\n",
       "dtype: int64"
      ]
     },
     "execution_count": 23,
     "metadata": {},
     "output_type": "execute_result"
    }
   ],
   "source": [
    "series_df.isnull().sum()"
   ]
  },
  {
   "cell_type": "code",
   "execution_count": 24,
   "id": "4db1a9a1-0619-4aa8-8b63-36fcbe5af2e2",
   "metadata": {},
   "outputs": [],
   "source": [
    "columns_to_keep = [\n",
    "    'Series Code',\n",
    "    'Topic',\n",
    "    'Indicator Name',\n",
    "    'Long definition',\n",
    "    'Unit of measure'\n",
    "]\n",
    "\n",
    "series_cleaned = series_df[columns_to_keep]\n"
   ]
  },
  {
   "cell_type": "code",
   "execution_count": null,
   "id": "5977aa26-badb-4afc-85be-3e31a4ae8cca",
   "metadata": {},
   "outputs": [],
   "source": [
    "series_cleaned.head()"
   ]
  },
  {
   "cell_type": "code",
   "execution_count": 25,
   "id": "c5d92121-d1b4-43d8-8579-f5b813501b19",
   "metadata": {},
   "outputs": [
    {
     "data": {
      "text/plain": [
       "(492875, 15)"
      ]
     },
     "execution_count": 25,
     "metadata": {},
     "output_type": "execute_result"
    }
   ],
   "source": [
    "df = pd.merge(df_merged,series_cleaned, left_on=\"Indicator Code\", right_on=\"Series Code\", how=\"left\")\n",
    "df.shape"
   ]
  },
  {
   "cell_type": "code",
   "execution_count": 26,
   "id": "950301b7-b358-4bdc-b79a-0693c58c9dde",
   "metadata": {},
   "outputs": [],
   "source": [
    "df.to_csv(\"data.csv\", index=False)"
   ]
  },
  {
   "cell_type": "code",
   "execution_count": 27,
   "id": "2d897e8b-0a69-4f00-978c-9617d9ad1ae6",
   "metadata": {},
   "outputs": [
    {
     "data": {
      "text/plain": [
       "(492875, 15)"
      ]
     },
     "execution_count": 27,
     "metadata": {},
     "output_type": "execute_result"
    }
   ],
   "source": [
    "df.shape"
   ]
  },
  {
   "cell_type": "code",
   "execution_count": 29,
   "id": "cd8508ba-843d-4a8b-8be1-d4ca1bde4820",
   "metadata": {},
   "outputs": [
    {
     "data": {
      "text/plain": [
       "Country Name             0\n",
       "Country Code             0\n",
       "Indicator Name_x         0\n",
       "Indicator Code           0\n",
       "variable                 0\n",
       "value                    0\n",
       "Short Name               0\n",
       "Region               80208\n",
       "Income Group         81759\n",
       "Currency Unit        80208\n",
       "Series Code          20190\n",
       "Topic                20190\n",
       "Indicator Name_y     34740\n",
       "Long definition      34740\n",
       "Unit of measure     486466\n",
       "dtype: int64"
      ]
     },
     "execution_count": 29,
     "metadata": {},
     "output_type": "execute_result"
    }
   ],
   "source": [
    "df.isnull().sum()"
   ]
  },
  {
   "cell_type": "code",
   "execution_count": 2,
   "id": "89bdeb08-87b0-4d96-bc3a-527be430f8a1",
   "metadata": {},
   "outputs": [],
   "source": [
    "df = pd.read_csv('data.csv')\n"
   ]
  },
  {
   "cell_type": "code",
   "execution_count": 4,
   "id": "8bb672a7-7b03-4342-bc58-f274754b1402",
   "metadata": {},
   "outputs": [
    {
     "data": {
      "text/plain": [
       "Index(['Country_Name', 'Country_Code', 'Indicator_Name_x', 'Indicator_Code',\n",
       "       'variable', 'value', 'Short_Name', 'Region', 'Income_Group',\n",
       "       'Currency_Unit', 'Series_Code', 'Topic', 'Indicator_Name_y',\n",
       "       'Long_definition', 'Unit_of_measure'],\n",
       "      dtype='object')"
      ]
     },
     "execution_count": 4,
     "metadata": {},
     "output_type": "execute_result"
    }
   ],
   "source": [
    "df.columns\n"
   ]
  },
  {
   "cell_type": "code",
   "execution_count": 13,
   "id": "8848a0a3-6642-445d-abbf-494471a5270a",
   "metadata": {},
   "outputs": [
    {
     "data": {
      "text/plain": [
       "Index(['Country_Name', 'Country_Code', 'Indicator_Name_x', 'Indicator_Code',\n",
       "       'variable', 'value', 'Short_Name', 'Region', 'Income_Group',\n",
       "       'Currency_Unit', 'Series_Code', 'Topic', 'Indicator_Name_y',\n",
       "       'Unit_of_measure'],\n",
       "      dtype='object')"
      ]
     },
     "execution_count": 13,
     "metadata": {},
     "output_type": "execute_result"
    }
   ],
   "source": [
    "df.columns"
   ]
  },
  {
   "cell_type": "code",
   "execution_count": 15,
   "id": "daf70b3d-1090-4703-afff-c6ce656c2efe",
   "metadata": {},
   "outputs": [],
   "source": [
    "df.to_csv(\"data.csv\", index=False)"
   ]
  }
 ],
 "metadata": {
  "kernelspec": {
   "display_name": "Python (venv)",
   "language": "python",
   "name": "venv"
  },
  "language_info": {
   "codemirror_mode": {
    "name": "ipython",
    "version": 3
   },
   "file_extension": ".py",
   "mimetype": "text/x-python",
   "name": "python",
   "nbconvert_exporter": "python",
   "pygments_lexer": "ipython3",
   "version": "3.13.5"
  }
 },
 "nbformat": 4,
 "nbformat_minor": 5
}
